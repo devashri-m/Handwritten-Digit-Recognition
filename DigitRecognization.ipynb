{
  "nbformat": 4,
  "nbformat_minor": 0,
  "metadata": {
    "colab": {
      "provenance": []
    },
    "kernelspec": {
      "name": "python3",
      "display_name": "Python 3"
    },
    "language_info": {
      "name": "python"
    }
  },
  "cells": [
    {
      "cell_type": "code",
      "execution_count": null,
      "metadata": {
        "id": "4xdQYVnr5eSX"
      },
      "outputs": [],
      "source": [
        "import numpy as np\n",
        "import tensorflow as tf\n",
        "from sklearn.datasets import load_digits\n",
        "from sklearn.model_selection import train_test_split\n",
        "from sklearn.preprocessing import StandardScaler\n",
        "from keras.models import Sequential\n",
        "from keras.layers import Dense\n",
        "from keras.utils import to_categorical\n",
        "import matplotlib.pyplot as plt\n",
        "\n",
        "# Load the dataset from sklearn.dataset library. the library is already imported above.\n",
        "digits = load_digits()\n",
        "\n",
        "# Split the data into training and test sets.\n",
        "#X_train, X_test contains input data and y_train, y_test contains targer labels for training and testing data respectively.\n",
        "#test_size=0.2 split the train and test data as 80% is training and 20% is test data\n",
        "\n",
        "X_train, X_test, y_train, y_test = train_test_split(digits.data, digits.target, test_size=0.2, random_state=20)\n",
        "\n",
        "\n",
        "#normalize function is used to ensure all input images are on same scale.\n",
        "X_train=tf.keras.utils.normalize(X_train,axis=1)\n",
        "X_test=tf.keras.utils.normalize(X_test,axis=1)"
      ]
    },
    {
      "cell_type": "code",
      "source": [
        "# Convert the target labels to one-hot encoding\n",
        "y_train = to_categorical(y_train)\n",
        "y_test = to_categorical(y_test)"
      ],
      "metadata": {
        "id": "2n8OFrcL5yhq"
      },
      "execution_count": null,
      "outputs": []
    },
    {
      "cell_type": "code",
      "source": [
        "# Define the model architecture using Keras\n",
        "# The model has three layers\n",
        "model = Sequential()\n",
        "model.add(Dense(128, activation='relu'))        # Dense layer with 128 neurons and using 'relu' activation function\n",
        "model.add(Dense(128, activation='relu'))\n",
        "model.add(Dense(10, activation='softmax'))      #This is the final output layer with 10 neurons and using 'softmax' activation function"
      ],
      "metadata": {
        "id": "mZyXGLc55-DA"
      },
      "execution_count": null,
      "outputs": []
    },
    {
      "cell_type": "code",
      "source": [
        "# Compile the model\n",
        "model.compile(loss='categorical_crossentropy', optimizer='adam', metrics=['accuracy'])"
      ],
      "metadata": {
        "id": "MLKlS4mF6B5V"
      },
      "execution_count": null,
      "outputs": []
    },
    {
      "cell_type": "code",
      "source": [
        "accuracy_list = []            #creating accuracy list which will be used to plot a graph\n",
        "loss_list =[]                 #creating loss list which will be used to plot a graph\n",
        "epochs=15\n",
        "for epoch in range(epochs):\n",
        "# 'fit' method is training model for given input and output data\n",
        "  model.fit(X_train, y_train,batch_size=32, validation_split=0.2)\n",
        "\n",
        "# Evaluate the model on the test and train set. Evaluate function computes loss and accuracy for givan input and output data.\n",
        "  loss, accuracy = model.evaluate(X_test, y_test)                     # accuracy and loss for test data\n",
        "  loss_train, accuracy_train = model.evaluate(X_train, y_train)       # accuracy and loss for train data\n",
        "  accuracy_list.append(accuracy_train)\n",
        "  loss_list.append(loss_train)\n",
        "\n",
        "print('Test Data loss using Keras:', loss)\n",
        "print('Accuracy of Test data using Keras:', accuracy)\n",
        "print('Training Data loss using Keras:', loss_train)\n",
        "print('Accuracy of Training data using Keras:', accuracy_train)"
      ],
      "metadata": {
        "colab": {
          "base_uri": "https://localhost:8080/"
        },
        "id": "F1A5skRN6YQu",
        "outputId": "293748a5-63ff-4736-8dcb-12b38574638e"
      },
      "execution_count": null,
      "outputs": [
        {
          "output_type": "stream",
          "name": "stdout",
          "text": [
            "36/36 [==============================] - 1s 6ms/step - loss: 2.1934 - accuracy: 0.3133 - val_loss: 1.9996 - val_accuracy: 0.7500\n",
            "12/12 [==============================] - 0s 1ms/step - loss: 1.9968 - accuracy: 0.7778\n",
            "45/45 [==============================] - 0s 1ms/step - loss: 1.9963 - accuracy: 0.7752\n",
            "36/36 [==============================] - 0s 3ms/step - loss: 1.6720 - accuracy: 0.7781 - val_loss: 1.2908 - val_accuracy: 0.7778\n",
            "12/12 [==============================] - 0s 2ms/step - loss: 1.2775 - accuracy: 0.8167\n",
            "45/45 [==============================] - 0s 1ms/step - loss: 1.2816 - accuracy: 0.7982\n",
            "36/36 [==============================] - 0s 3ms/step - loss: 0.9874 - accuracy: 0.8555 - val_loss: 0.7723 - val_accuracy: 0.8715\n",
            "12/12 [==============================] - 0s 2ms/step - loss: 0.7199 - accuracy: 0.8944\n",
            "45/45 [==============================] - 0s 2ms/step - loss: 0.7391 - accuracy: 0.8733\n",
            "36/36 [==============================] - 0s 3ms/step - loss: 0.6063 - accuracy: 0.8834 - val_loss: 0.5201 - val_accuracy: 0.8993\n",
            "12/12 [==============================] - 0s 2ms/step - loss: 0.4709 - accuracy: 0.9167\n",
            "45/45 [==============================] - 0s 1ms/step - loss: 0.4912 - accuracy: 0.9012\n",
            "36/36 [==============================] - 0s 3ms/step - loss: 0.4227 - accuracy: 0.9086 - val_loss: 0.3840 - val_accuracy: 0.9167\n",
            "12/12 [==============================] - 0s 2ms/step - loss: 0.3520 - accuracy: 0.9361\n",
            "45/45 [==============================] - 0s 1ms/step - loss: 0.3605 - accuracy: 0.9255\n",
            "36/36 [==============================] - 0s 3ms/step - loss: 0.3185 - accuracy: 0.9286 - val_loss: 0.2990 - val_accuracy: 0.9167\n",
            "12/12 [==============================] - 0s 2ms/step - loss: 0.2769 - accuracy: 0.9472\n",
            "45/45 [==============================] - 0s 1ms/step - loss: 0.2790 - accuracy: 0.9360\n",
            "36/36 [==============================] - 0s 3ms/step - loss: 0.2615 - accuracy: 0.9373 - val_loss: 0.2559 - val_accuracy: 0.9340\n",
            "12/12 [==============================] - 0s 2ms/step - loss: 0.2382 - accuracy: 0.9528\n",
            "45/45 [==============================] - 0s 1ms/step - loss: 0.2380 - accuracy: 0.9395\n",
            "36/36 [==============================] - 0s 5ms/step - loss: 0.2254 - accuracy: 0.9443 - val_loss: 0.2218 - val_accuracy: 0.9479\n",
            "12/12 [==============================] - 0s 2ms/step - loss: 0.1966 - accuracy: 0.9583\n",
            "45/45 [==============================] - 0s 2ms/step - loss: 0.1956 - accuracy: 0.9562\n",
            "36/36 [==============================] - 0s 5ms/step - loss: 0.1835 - accuracy: 0.9591 - val_loss: 0.2152 - val_accuracy: 0.9444\n",
            "12/12 [==============================] - 0s 2ms/step - loss: 0.1835 - accuracy: 0.9639\n",
            "45/45 [==============================] - 0s 2ms/step - loss: 0.1771 - accuracy: 0.9569\n",
            "36/36 [==============================] - 0s 4ms/step - loss: 0.1691 - accuracy: 0.9574 - val_loss: 0.2059 - val_accuracy: 0.9375\n",
            "12/12 [==============================] - 0s 3ms/step - loss: 0.1633 - accuracy: 0.9667\n",
            "45/45 [==============================] - 0s 1ms/step - loss: 0.1646 - accuracy: 0.9541\n",
            "36/36 [==============================] - 0s 3ms/step - loss: 0.1479 - accuracy: 0.9626 - val_loss: 0.1754 - val_accuracy: 0.9479\n",
            "12/12 [==============================] - 0s 2ms/step - loss: 0.1491 - accuracy: 0.9639\n",
            "45/45 [==============================] - 0s 1ms/step - loss: 0.1414 - accuracy: 0.9603\n",
            "36/36 [==============================] - 0s 3ms/step - loss: 0.1367 - accuracy: 0.9704 - val_loss: 0.1633 - val_accuracy: 0.9514\n",
            "12/12 [==============================] - 0s 1ms/step - loss: 0.1559 - accuracy: 0.9556\n",
            "45/45 [==============================] - 0s 1ms/step - loss: 0.1385 - accuracy: 0.9701\n",
            "36/36 [==============================] - 0s 3ms/step - loss: 0.1245 - accuracy: 0.9739 - val_loss: 0.1781 - val_accuracy: 0.9375\n",
            "12/12 [==============================] - 0s 2ms/step - loss: 0.1420 - accuracy: 0.9639\n",
            "45/45 [==============================] - 0s 4ms/step - loss: 0.1260 - accuracy: 0.9610\n",
            "36/36 [==============================] - 0s 4ms/step - loss: 0.1142 - accuracy: 0.9756 - val_loss: 0.1636 - val_accuracy: 0.9514\n",
            "12/12 [==============================] - 0s 2ms/step - loss: 0.1391 - accuracy: 0.9639\n",
            "45/45 [==============================] - 0s 2ms/step - loss: 0.1153 - accuracy: 0.9694\n",
            "36/36 [==============================] - 0s 8ms/step - loss: 0.1041 - accuracy: 0.9748 - val_loss: 0.1480 - val_accuracy: 0.9514\n",
            "12/12 [==============================] - 0s 3ms/step - loss: 0.1269 - accuracy: 0.9639\n",
            "45/45 [==============================] - 0s 1ms/step - loss: 0.1050 - accuracy: 0.9743\n",
            "Test Data loss using Keras: 0.12694242596626282\n",
            "Accuracy of Test data using Keras: 0.9638888835906982\n",
            "Training Data loss using Keras: 0.10501781105995178\n",
            "Accuracy of Training data using Keras: 0.974251925945282\n"
          ]
        }
      ]
    },
    {
      "cell_type": "code",
      "source": [
        "# Store the weights and biases for each layer\n",
        "weights = []\n",
        "biases = []\n",
        "for layer in model.layers:\n",
        "    w, b = layer.get_weights()        #The get_weights() method is Keras method that returns the current values of the weights and biases for layer.\n",
        "    weights.append(w)                 #List of weights\n",
        "    biases.append(b)                  # List of biases"
      ],
      "metadata": {
        "id": "h2-0azTj7WHq"
      },
      "execution_count": null,
      "outputs": []
    },
    {
      "cell_type": "code",
      "source": [
        "# Function for forward propagation\n",
        "def forward_propagation(X, weights, biases):\n",
        "    A = X\n",
        "    for i in range(len(weights)):\n",
        "        Z = np.dot(A, weights[i]) + biases[i]\n",
        "        if i == len(weights) - 1:\n",
        "            exp_Z = np.exp(Z)\n",
        "            A = exp_Z / exp_Z.sum()\n",
        "        else:\n",
        "            A = np.maximum(0, Z)\n",
        "    return A"
      ],
      "metadata": {
        "id": "Bzjzjo8P8Xnp"
      },
      "execution_count": null,
      "outputs": []
    },
    {
      "cell_type": "code",
      "source": [
        "# Make predictions on the test set using the forward propagation function\n",
        "y_pred = forward_propagation(X_test, weights, biases)\n",
        "y_pred = np.argmax(y_pred, axis=1)\n",
        "y_test = np.argmax(y_test, axis=1)\n",
        "\n",
        "print('Predicted class:', y_pred.shape)\n",
        "print('True class:', y_test.shape)"
      ],
      "metadata": {
        "colab": {
          "base_uri": "https://localhost:8080/"
        },
        "id": "gUP_su767nN4",
        "outputId": "55f592d4-5445-4393-e524-fe07884818c2"
      },
      "execution_count": null,
      "outputs": [
        {
          "output_type": "stream",
          "name": "stdout",
          "text": [
            "Predicted class: (360,)\n",
            "True class: (360,)\n"
          ]
        }
      ]
    },
    {
      "cell_type": "code",
      "source": [
        "# calculating accuracy using 'accuracy_score' function\n",
        "\n",
        "from sklearn.metrics import accuracy_score\n",
        "print('Accuracy after using Numpy:',accuracy_score(y_test,y_pred))\n",
        "\n"
      ],
      "metadata": {
        "colab": {
          "base_uri": "https://localhost:8080/"
        },
        "id": "66OUE7WI8BU5",
        "outputId": "455bc17b-de94-42bc-87fb-804f2fc564e2"
      },
      "execution_count": null,
      "outputs": [
        {
          "output_type": "stream",
          "name": "stdout",
          "text": [
            "Accuracy after using Numpy: 0.9638888888888889\n"
          ]
        }
      ]
    },
    {
      "cell_type": "code",
      "source": [
        "#Plot a graph Accuracy vs Epochs\n",
        "x = range(epochs)\n",
        "y = accuracy_list\n",
        "plt.plot(x, y)\n",
        "plt.title('Epochs vs Accuracy')\n",
        "plt.xlabel('Epochs')\n",
        "plt.ylabel('Accuracy')\n",
        "plt.show()\n",
        "\n",
        "# Plot a graph Loss vs Epochs\n",
        "y = loss_list\n",
        "plt.plot(x, y)\n",
        "plt.title('Epoch vs Loss')\n",
        "plt.xlabel('epochs')\n",
        "plt.ylabel('loss')\n",
        "plt.show()"
      ],
      "metadata": {
        "colab": {
          "base_uri": "https://localhost:8080/",
          "height": 573
        },
        "id": "mkURqEhs8jtk",
        "outputId": "6dcbd500-f21c-42c4-da3b-814a93a95d1e"
      },
      "execution_count": null,
      "outputs": [
        {
          "output_type": "display_data",
          "data": {
            "text/plain": [
              "<Figure size 432x288 with 1 Axes>"
            ],
            "image/png": "[encoded data removed]"
          },
          "metadata": {
            "needs_background": "light"
          }
        },
        {
          "output_type": "display_data",
          "data": {
            "text/plain": [
              "<Figure size 432x288 with 1 Axes>"
            ],
            "image/png": "[encoded data removed]"
          },
          "metadata": {
            "needs_background": "light"
          }
        }
      ]
    },
    {
      "cell_type": "code",
      "source": [
        "#Iterate over list of sample classes and predict class label for each class\n",
        "\n",
        "sample_class = [1,2,3,5,4,6]\n",
        "for i in sample_class:\n",
        "  prediction = model.predict(np.array([X_test[i]]))\n",
        "  predicted_class = np.argmax(prediction)\n",
        "\n",
        "  # Print the predicted class label\n",
        "  print(\"Predicted Class:\", predicted_class)\n",
        "  print(\"True class:\", y_test[i])\n",
        "  if predicted_class == y_test[i]:\n",
        "    print(\"Correctly predicted\")\n",
        "\n",
        "  plt.imshow(X_test[i].reshape(8,8), cmap=plt.cm.gray_r)\n",
        "  plt.show()"
      ],
      "metadata": {
        "colab": {
          "base_uri": "https://localhost:8080/",
          "height": 1000
        },
        "id": "ptUlt8H19Gu7",
        "outputId": "65b1b63c-84e2-4856-dc7f-b77b03846fb2"
      },
      "execution_count": null,
      "outputs": [
        {
          "output_type": "stream",
          "name": "stdout",
          "text": [
            "1/1 [==============================] - 0s 183ms/step\n",
            "Predicted Class: 7\n",
            "True class: 7\n",
            "Correctly predicted\n"
          ]
        },
        {
          "output_type": "display_data",
          "data": {
            "text/plain": [
              "<Figure size 432x288 with 1 Axes>"
            ],
            "image/png": "[encoded data removed]"
          },
          "metadata": {
            "needs_background": "light"
          }
        },
        {
          "output_type": "stream",
          "name": "stdout",
          "text": [
            "1/1 [==============================] - 0s 16ms/step\n",
            "Predicted Class: 9\n",
            "True class: 9\n",
            "Correctly predicted\n"
          ]
        },
        {
          "output_type": "display_data",
          "data": {
            "text/plain": [
              "<Figure size 432x288 with 1 Axes>"
            ],
            "image/png": "[encoded data removed]"
          },
          "metadata": {
            "needs_background": "light"
          }
        },
        {
          "output_type": "stream",
          "name": "stdout",
          "text": [
            "1/1 [==============================] - 0s 21ms/step\n",
            "Predicted Class: 5\n",
            "True class: 5\n",
            "Correctly predicted\n"
          ]
        },
        {
          "output_type": "display_data",
          "data": {
            "text/plain": [
              "<Figure size 432x288 with 1 Axes>"
            ],
            "image/png": "[encoded data removed]"
          },
          "metadata": {
            "needs_background": "light"
          }
        },
        {
          "output_type": "stream",
          "name": "stdout",
          "text": [
            "1/1 [==============================] - 0s 15ms/step\n",
            "Predicted Class: 1\n",
            "True class: 1\n",
            "Correctly predicted\n"
          ]
        },
        {
          "output_type": "display_data",
          "data": {
            "text/plain": [
              "<Figure size 432x288 with 1 Axes>"
            ],
            "image/png": "[encoded data removed]"
          },
          "metadata": {
            "needs_background": "light"
          }
        },
        {
          "output_type": "stream",
          "name": "stdout",
          "text": [
            "1/1 [==============================] - 0s 16ms/step\n",
            "Predicted Class: 8\n",
            "True class: 8\n",
            "Correctly predicted\n"
          ]
        },
        {
          "output_type": "display_data",
          "data": {
            "text/plain": [
              "<Figure size 432x288 with 1 Axes>"
            ],
            "image/png": "[encoded data removed]"
          },
          "metadata": {
            "needs_background": "light"
          }
        },
        {
          "output_type": "stream",
          "name": "stdout",
          "text": [
            "1/1 [==============================] - 0s 19ms/step\n",
            "Predicted Class: 3\n",
            "True class: 3\n",
            "Correctly predicted\n"
          ]
        },
        {
          "output_type": "display_data",
          "data": {
            "text/plain": [
              "<Figure size 432x288 with 1 Axes>"
            ],
            "image/png": "[encoded data removed]"
          },
          "metadata": {
            "needs_background": "light"
          }
        }
      ]
    }
  ]
}